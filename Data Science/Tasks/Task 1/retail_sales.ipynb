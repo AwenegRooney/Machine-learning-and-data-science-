{
 "cells": [
  {
   "cell_type": "markdown",
   "id": "280e05d0-5891-4eef-8107-945f0f617818",
   "metadata": {},
   "source": [
    "## Setting things up"
   ]
  },
  {
   "cell_type": "code",
   "execution_count": 1,
   "id": "ff3cd3e1-6939-4492-a2ea-834b6cf1192b",
   "metadata": {},
   "outputs": [],
   "source": [
    "import pandas as pd\n",
    "import numpy as np\n",
    "import matplotlib.pyplot as plt"
   ]
  },
  {
   "cell_type": "markdown",
   "id": "e0277e66-7cb2-44c8-9d60-5b0478b61fc8",
   "metadata": {},
   "source": [
    "# Task1"
   ]
  },
  {
   "cell_type": "markdown",
   "id": "c45c9eff-eca2-4747-a392-8ece57a60a6e",
   "metadata": {},
   "source": [
    "1. Loading the data.\n",
    "2. Displaying the first 10 rows."
   ]
  },
  {
   "cell_type": "code",
   "execution_count": 2,
   "id": "378305b8-95bd-4d0c-b74d-b5712e024a8a",
   "metadata": {},
   "outputs": [
    {
     "data": {
      "text/html": [
       "<div>\n",
       "<style scoped>\n",
       "    .dataframe tbody tr th:only-of-type {\n",
       "        vertical-align: middle;\n",
       "    }\n",
       "\n",
       "    .dataframe tbody tr th {\n",
       "        vertical-align: top;\n",
       "    }\n",
       "\n",
       "    .dataframe thead th {\n",
       "        text-align: right;\n",
       "    }\n",
       "</style>\n",
       "<table border=\"1\" class=\"dataframe\">\n",
       "  <thead>\n",
       "    <tr style=\"text-align: right;\">\n",
       "      <th></th>\n",
       "      <th>TransactionID</th>\n",
       "      <th>Date</th>\n",
       "      <th>StoreID</th>\n",
       "      <th>ProductID</th>\n",
       "      <th>Quantity</th>\n",
       "      <th>UnitPrice</th>\n",
       "      <th>CustomerID</th>\n",
       "      <th>PaymentMethod</th>\n",
       "      <th>ProductCategory</th>\n",
       "    </tr>\n",
       "  </thead>\n",
       "  <tbody>\n",
       "    <tr>\n",
       "      <th>0</th>\n",
       "      <td>T0001</td>\n",
       "      <td>2023-07-11</td>\n",
       "      <td>S003</td>\n",
       "      <td>P001</td>\n",
       "      <td>4</td>\n",
       "      <td>1496</td>\n",
       "      <td>C271</td>\n",
       "      <td>Cash</td>\n",
       "      <td>Printer</td>\n",
       "    </tr>\n",
       "    <tr>\n",
       "      <th>1</th>\n",
       "      <td>T0002</td>\n",
       "      <td>2023-10-04</td>\n",
       "      <td>S004</td>\n",
       "      <td>P002</td>\n",
       "      <td>2</td>\n",
       "      <td>1069</td>\n",
       "      <td>C305</td>\n",
       "      <td>Card</td>\n",
       "      <td>Headphones</td>\n",
       "    </tr>\n",
       "    <tr>\n",
       "      <th>2</th>\n",
       "      <td>T0003</td>\n",
       "      <td>2023-06-10</td>\n",
       "      <td>S005</td>\n",
       "      <td>P019</td>\n",
       "      <td>1</td>\n",
       "      <td>966</td>\n",
       "      <td>C391</td>\n",
       "      <td>Cash</td>\n",
       "      <td>Camera</td>\n",
       "    </tr>\n",
       "    <tr>\n",
       "      <th>3</th>\n",
       "      <td>T0004</td>\n",
       "      <td>2023-11-10</td>\n",
       "      <td>S002</td>\n",
       "      <td>P014</td>\n",
       "      <td>5</td>\n",
       "      <td>488</td>\n",
       "      <td>C211</td>\n",
       "      <td>Cash</td>\n",
       "      <td>Tablet</td>\n",
       "    </tr>\n",
       "    <tr>\n",
       "      <th>4</th>\n",
       "      <td>T0005</td>\n",
       "      <td>2023-01-22</td>\n",
       "      <td>S003</td>\n",
       "      <td>P020</td>\n",
       "      <td>3</td>\n",
       "      <td>1065</td>\n",
       "      <td>C168</td>\n",
       "      <td>Cash</td>\n",
       "      <td>Smartphone</td>\n",
       "    </tr>\n",
       "    <tr>\n",
       "      <th>5</th>\n",
       "      <td>T0006</td>\n",
       "      <td>2023-09-10</td>\n",
       "      <td>S004</td>\n",
       "      <td>P010</td>\n",
       "      <td>4</td>\n",
       "      <td>1130</td>\n",
       "      <td>C283</td>\n",
       "      <td>Card</td>\n",
       "      <td>Smartwatch</td>\n",
       "    </tr>\n",
       "    <tr>\n",
       "      <th>6</th>\n",
       "      <td>T0007</td>\n",
       "      <td>2023-08-24</td>\n",
       "      <td>S004</td>\n",
       "      <td>P009</td>\n",
       "      <td>2</td>\n",
       "      <td>547</td>\n",
       "      <td>C296</td>\n",
       "      <td>Online</td>\n",
       "      <td>Monitor</td>\n",
       "    </tr>\n",
       "    <tr>\n",
       "      <th>7</th>\n",
       "      <td>T0008</td>\n",
       "      <td>2023-12-11</td>\n",
       "      <td>S001</td>\n",
       "      <td>P010</td>\n",
       "      <td>1</td>\n",
       "      <td>218</td>\n",
       "      <td>C226</td>\n",
       "      <td>Card</td>\n",
       "      <td>Smartwatch</td>\n",
       "    </tr>\n",
       "    <tr>\n",
       "      <th>8</th>\n",
       "      <td>T0009</td>\n",
       "      <td>2023-02-18</td>\n",
       "      <td>S001</td>\n",
       "      <td>P006</td>\n",
       "      <td>1</td>\n",
       "      <td>1038</td>\n",
       "      <td>C275</td>\n",
       "      <td>Cash</td>\n",
       "      <td>Mouse</td>\n",
       "    </tr>\n",
       "    <tr>\n",
       "      <th>9</th>\n",
       "      <td>T0010</td>\n",
       "      <td>2023-02-28</td>\n",
       "      <td>S002</td>\n",
       "      <td>P017</td>\n",
       "      <td>5</td>\n",
       "      <td>610</td>\n",
       "      <td>C362</td>\n",
       "      <td>Online</td>\n",
       "      <td>Smartphone</td>\n",
       "    </tr>\n",
       "  </tbody>\n",
       "</table>\n",
       "</div>"
      ],
      "text/plain": [
       "  TransactionID        Date StoreID ProductID  Quantity  UnitPrice CustomerID  \\\n",
       "0         T0001  2023-07-11    S003      P001         4       1496       C271   \n",
       "1         T0002  2023-10-04    S004      P002         2       1069       C305   \n",
       "2         T0003  2023-06-10    S005      P019         1        966       C391   \n",
       "3         T0004  2023-11-10    S002      P014         5        488       C211   \n",
       "4         T0005  2023-01-22    S003      P020         3       1065       C168   \n",
       "5         T0006  2023-09-10    S004      P010         4       1130       C283   \n",
       "6         T0007  2023-08-24    S004      P009         2        547       C296   \n",
       "7         T0008  2023-12-11    S001      P010         1        218       C226   \n",
       "8         T0009  2023-02-18    S001      P006         1       1038       C275   \n",
       "9         T0010  2023-02-28    S002      P017         5        610       C362   \n",
       "\n",
       "  PaymentMethod ProductCategory  \n",
       "0          Cash         Printer  \n",
       "1          Card      Headphones  \n",
       "2          Cash          Camera  \n",
       "3          Cash          Tablet  \n",
       "4          Cash      Smartphone  \n",
       "5          Card      Smartwatch  \n",
       "6        Online         Monitor  \n",
       "7          Card      Smartwatch  \n",
       "8          Cash           Mouse  \n",
       "9        Online      Smartphone  "
      ]
     },
     "execution_count": 2,
     "metadata": {},
     "output_type": "execute_result"
    }
   ],
   "source": [
    "sales_data = pd.read_csv('retail_sales.csv')\n",
    "\n",
    "sales_data.head(10)"
   ]
  },
  {
   "cell_type": "markdown",
   "id": "2e768435-a897-4cd4-a6d9-0b69d11e4bfa",
   "metadata": {},
   "source": [
    "3. Displaying columns."
   ]
  },
  {
   "cell_type": "code",
   "execution_count": 3,
   "id": "229cf398-3ef5-4e10-a296-d0e982b338fe",
   "metadata": {},
   "outputs": [
    {
     "data": {
      "text/plain": [
       "Index(['TransactionID', 'Date', 'StoreID', 'ProductID', 'Quantity',\n",
       "       'UnitPrice', 'CustomerID', 'PaymentMethod', 'ProductCategory'],\n",
       "      dtype='object')"
      ]
     },
     "execution_count": 3,
     "metadata": {},
     "output_type": "execute_result"
    }
   ],
   "source": [
    "sales_data.columns"
   ]
  },
  {
   "cell_type": "markdown",
   "id": "9c79f60f-3539-4620-9906-4280108c1fbf",
   "metadata": {},
   "source": [
    "4. Displaying shape."
   ]
  },
  {
   "cell_type": "code",
   "execution_count": 4,
   "id": "e340b6b7-f003-497f-8a95-d9937284cd0f",
   "metadata": {},
   "outputs": [
    {
     "data": {
      "text/plain": [
       "(5000, 9)"
      ]
     },
     "execution_count": 4,
     "metadata": {},
     "output_type": "execute_result"
    }
   ],
   "source": [
    "sales_data.shape"
   ]
  },
  {
   "cell_type": "markdown",
   "id": "f021b489-262e-4b3b-980c-e90404fea317",
   "metadata": {},
   "source": [
    "5. checking for null values."
   ]
  },
  {
   "cell_type": "code",
   "execution_count": 5,
   "id": "5eb64d79-d328-4c7d-b7ae-893a3e52601b",
   "metadata": {},
   "outputs": [
    {
     "data": {
      "text/plain": [
       "np.False_"
      ]
     },
     "execution_count": 5,
     "metadata": {},
     "output_type": "execute_result"
    }
   ],
   "source": [
    "#Checking for null values\n",
    "sales_data.isnull().values.any()"
   ]
  },
  {
   "cell_type": "markdown",
   "id": "22ab3335-589f-4504-aee0-dbcbc57a7897",
   "metadata": {},
   "source": [
    "6. Checking for duplicates."
   ]
  },
  {
   "cell_type": "code",
   "execution_count": 6,
   "id": "eb6bab7a-2f0a-477a-ad3d-35ef2ea34d6d",
   "metadata": {},
   "outputs": [
    {
     "data": {
      "text/plain": [
       "np.False_"
      ]
     },
     "execution_count": 6,
     "metadata": {},
     "output_type": "execute_result"
    }
   ],
   "source": [
    "#checking to see if there is any duplicate\n",
    "sales_data.duplicated().any()"
   ]
  },
  {
   "cell_type": "markdown",
   "id": "4c55ffd6-7f77-4044-974d-66571097a7eb",
   "metadata": {},
   "source": [
    "# Task 2"
   ]
  },
  {
   "cell_type": "markdown",
   "id": "3ce34b98-54f6-4aea-9cca-42eba177ff5c",
   "metadata": {},
   "source": [
    "1. Since there are no null or duplicated values, no need to remove any row.\n",
    "2. Converting **Date** to Datetime datatype."
   ]
  },
  {
   "cell_type": "code",
   "execution_count": 7,
   "id": "d3aee8f6-9fad-4444-b5f2-607e84e5a8ec",
   "metadata": {},
   "outputs": [],
   "source": [
    "sales_data['Date'] = pd.to_datetime(sales_data['Date'])"
   ]
  },
  {
   "cell_type": "markdown",
   "id": "5f86ad01-5b44-4e6d-b83d-4a48a62765a0",
   "metadata": {},
   "source": [
    "3. Checking the datatypes of Quantity and UnitPrice, to check if they are integers or need conversion."
   ]
  },
  {
   "cell_type": "code",
   "execution_count": 8,
   "id": "a4774e56-7307-4a8f-8fd1-a626981b1a29",
   "metadata": {},
   "outputs": [
    {
     "name": "stdout",
     "output_type": "stream",
     "text": [
      "<class 'pandas.core.frame.DataFrame'>\n",
      "RangeIndex: 5000 entries, 0 to 4999\n",
      "Data columns (total 2 columns):\n",
      " #   Column     Non-Null Count  Dtype\n",
      "---  ------     --------------  -----\n",
      " 0   Quantity   5000 non-null   int64\n",
      " 1   UnitPrice  5000 non-null   int64\n",
      "dtypes: int64(2)\n",
      "memory usage: 78.3 KB\n"
     ]
    }
   ],
   "source": [
    "sales_data[['Quantity', 'UnitPrice']].info()"
   ]
  },
  {
   "cell_type": "markdown",
   "id": "dc70c1c0-838c-4d83-8240-0ab66a5b92ed",
   "metadata": {},
   "source": [
    "4. Removing invalid prices or quantities."
   ]
  },
  {
   "cell_type": "code",
   "execution_count": 9,
   "id": "c99faf79-d500-4d62-8195-5c77a6dfa550",
   "metadata": {},
   "outputs": [],
   "source": [
    "invalid_indices = sales_data[(sales_data['UnitPrice'] < 0) | (sales_data['Quantity'] < 0)].index\n",
    "sales_data.drop(index=invalid_indices, inplace=True)"
   ]
  },
  {
   "cell_type": "markdown",
   "id": "06a0d0c8-d902-4e06-9367-00e46078e7b4",
   "metadata": {},
   "source": [
    "# Task 3"
   ]
  },
  {
   "cell_type": "markdown",
   "id": "c46c5454-74cd-434d-95ea-cc17112e2031",
   "metadata": {},
   "source": [
    "1. Creating the TotalPrice column."
   ]
  },
  {
   "cell_type": "code",
   "execution_count": 10,
   "id": "a857ae6e-5267-46c9-8ec5-48322acff7f9",
   "metadata": {},
   "outputs": [],
   "source": [
    "sales_data['TotalPrice'] = sales_data['Quantity'] * sales_data['UnitPrice']"
   ]
  },
  {
   "cell_type": "markdown",
   "id": "c6375d10-b6fa-4ab7-b42d-118f04d41fd0",
   "metadata": {},
   "source": [
    "2. Extracting year, month and DayOfWeek form the dataset."
   ]
  },
  {
   "cell_type": "code",
   "execution_count": 11,
   "id": "23183668-07a1-4308-86f7-25f29d05e40e",
   "metadata": {},
   "outputs": [],
   "source": [
    "year = sales_data['Date'].dt.year\n",
    "month = sales_data['Date'].dt.month_name()\n",
    "DayOfWeek = sales_data['Date'].dt.day_name()"
   ]
  },
  {
   "cell_type": "markdown",
   "id": "47ffa4c3-8888-48a6-bce2-bac7bbc19760",
   "metadata": {},
   "source": [
    "3. Transaction period determination."
   ]
  },
  {
   "cell_type": "code",
   "execution_count": 12,
   "id": "2b37c166-66ed-4511-a04e-a96030067682",
   "metadata": {},
   "outputs": [],
   "source": [
    "def select(row):\n",
    "    if row.day_name() in ['Monday', 'Tuesday', 'Wednesday', 'Thursday', 'Friday']:\n",
    "        return 'weekday'\n",
    "    else:\n",
    "        return 'weekend'\n",
    "sales_data['Week'] = sales_data['Date'].apply(select)"
   ]
  },
  {
   "cell_type": "markdown",
   "id": "07f464ee-8ceb-496d-97bc-a241a6d47073",
   "metadata": {},
   "source": [
    "# Task 4"
   ]
  },
  {
   "cell_type": "markdown",
   "id": "34005438-a78a-4ead-824a-527f8a25b271",
   "metadata": {},
   "source": [
    "1. Total sales for the year."
   ]
  },
  {
   "cell_type": "code",
   "execution_count": 13,
   "id": "d905904f-e097-49af-8ac2-6d372dd9b77b",
   "metadata": {},
   "outputs": [
    {
     "data": {
      "text/plain": [
       "np.int64(11706475)"
      ]
     },
     "execution_count": 13,
     "metadata": {},
     "output_type": "execute_result"
    }
   ],
   "source": [
    "sales_data['TotalPrice'].sum()"
   ]
  },
  {
   "cell_type": "markdown",
   "id": "b8bddbf5-8505-48de-872d-fd6772518903",
   "metadata": {},
   "source": [
    "2. Top 5 best-selling products."
   ]
  },
  {
   "cell_type": "code",
   "execution_count": 14,
   "id": "6cf6be96-1074-4be5-afc4-61fca326ec59",
   "metadata": {},
   "outputs": [
    {
     "data": {
      "text/plain": [
       "Index(['Monitor', 'Smartwatch', 'Printer', 'Camera', 'Smartphone'], dtype='object', name='ProductCategory')"
      ]
     },
     "execution_count": 14,
     "metadata": {},
     "output_type": "execute_result"
    }
   ],
   "source": [
    "#1. group the dataset by the products \n",
    "#2. calculate how much money was made by each product by summing the TotalPrice column\n",
    "#3. Then sort the products in descending order of TotalPrice sum\n",
    "top_selling = sales_data.groupby('ProductCategory').agg({'TotalPrice':'sum'}).sort_values(by='TotalPrice', ascending=False)\n",
    "\n",
    "#4.Getting the top 5 products\n",
    "top_selling.index[:5]"
   ]
  },
  {
   "cell_type": "markdown",
   "id": "8b08f5bf-6123-494c-8eaa-5d7ce449defd",
   "metadata": {},
   "source": [
    "3. Getting month with highest sales."
   ]
  },
  {
   "cell_type": "code",
   "execution_count": 15,
   "id": "9f2f37a7-6b75-49f0-9cb9-7429bbfb046e",
   "metadata": {},
   "outputs": [
    {
     "data": {
      "text/plain": [
       "Index(['August', 'May'], dtype='object', name='Date')"
      ]
     },
     "execution_count": 15,
     "metadata": {},
     "output_type": "execute_result"
    }
   ],
   "source": [
    "#1. Groupby month.\n",
    "#2. Getting the number of sales, by counting the number of transaction in each month.\n",
    "#3. Sorting the results by number of sales in decending order.\n",
    "monthly_sales = sales_data.groupby(sales_data['Date'].dt.month_name()).agg(sales=('TransactionID', 'count')).sort_values(by='sales', ascending=False)\n",
    "\n",
    "#getting the maximum number of sales\n",
    "max_sales = monthly_sales['sales'].max()\n",
    "\n",
    "#selecting the month with maximum sales\n",
    "monthly_sales.index[monthly_sales['sales'] == max_sales]"
   ]
  },
  {
   "cell_type": "markdown",
   "id": "a37adc9a-48fc-4199-8fdf-70f2333d2e37",
   "metadata": {},
   "source": [
    "4. Most common payment method."
   ]
  },
  {
   "cell_type": "code",
   "execution_count": 16,
   "id": "314fc9fa-03a4-4cd1-bee4-473ea6e55b84",
   "metadata": {},
   "outputs": [
    {
     "data": {
      "text/plain": [
       "'Online'"
      ]
     },
     "execution_count": 16,
     "metadata": {},
     "output_type": "execute_result"
    }
   ],
   "source": [
    "#select the paymentmethod column and count how many times each our.\n",
    "#value_counts() method sorts the resulting series in descending order of count.\n",
    "#Select the first index / value\n",
    "sales_data['PaymentMethod'].value_counts().index[0]"
   ]
  },
  {
   "cell_type": "markdown",
   "id": "802900ee-3e76-4f83-86d1-d758178990fc",
   "metadata": {},
   "source": [
    "5. Average order value per store"
   ]
  },
  {
   "cell_type": "code",
   "execution_count": 17,
   "id": "26f91d66-5a72-4d33-940d-de3b735e8da5",
   "metadata": {
    "scrolled": true
   },
   "outputs": [
    {
     "data": {
      "text/html": [
       "<div>\n",
       "<style scoped>\n",
       "    .dataframe tbody tr th:only-of-type {\n",
       "        vertical-align: middle;\n",
       "    }\n",
       "\n",
       "    .dataframe tbody tr th {\n",
       "        vertical-align: top;\n",
       "    }\n",
       "\n",
       "    .dataframe thead th {\n",
       "        text-align: right;\n",
       "    }\n",
       "</style>\n",
       "<table border=\"1\" class=\"dataframe\">\n",
       "  <thead>\n",
       "    <tr style=\"text-align: right;\">\n",
       "      <th></th>\n",
       "      <th>TotalPrice</th>\n",
       "    </tr>\n",
       "    <tr>\n",
       "      <th>StoreID</th>\n",
       "      <th></th>\n",
       "    </tr>\n",
       "  </thead>\n",
       "  <tbody>\n",
       "    <tr>\n",
       "      <th>S001</th>\n",
       "      <td>2350.111002</td>\n",
       "    </tr>\n",
       "    <tr>\n",
       "      <th>S002</th>\n",
       "      <td>2314.704225</td>\n",
       "    </tr>\n",
       "    <tr>\n",
       "      <th>S003</th>\n",
       "      <td>2347.863445</td>\n",
       "    </tr>\n",
       "    <tr>\n",
       "      <th>S004</th>\n",
       "      <td>2316.641684</td>\n",
       "    </tr>\n",
       "    <tr>\n",
       "      <th>S005</th>\n",
       "      <td>2378.735621</td>\n",
       "    </tr>\n",
       "  </tbody>\n",
       "</table>\n",
       "</div>"
      ],
      "text/plain": [
       "          TotalPrice\n",
       "StoreID             \n",
       "S001     2350.111002\n",
       "S002     2314.704225\n",
       "S003     2347.863445\n",
       "S004     2316.641684\n",
       "S005     2378.735621"
      ]
     },
     "execution_count": 17,
     "metadata": {},
     "output_type": "execute_result"
    }
   ],
   "source": [
    "# Groupby StoreID and then calculate the mean of the total price\n",
    "sales_data.groupby('StoreID').agg({'TotalPrice': 'mean'})"
   ]
  },
  {
   "cell_type": "markdown",
   "id": "6aee7bfa-c27e-4d40-b951-8ab6b1c4777d",
   "metadata": {},
   "source": [
    "# Task 5"
   ]
  },
  {
   "cell_type": "markdown",
   "id": "582f356d-2add-4512-a689-ea0eb3e26603",
   "metadata": {},
   "source": [
    "1. Line plot."
   ]
  },
  {
   "cell_type": "code",
   "execution_count": 18,
   "id": "37a4610d-7cd0-48e9-b9cc-7f1f9270fa2c",
   "metadata": {},
   "outputs": [
    {
     "data": {
      "image/png": "[encoded data removed]",
      "text/plain": [
       "<Figure size 640x480 with 1 Axes>"
      ]
     },
     "metadata": {},
     "output_type": "display_data"
    }
   ],
   "source": [
    "#Getting the axis and figure to plot on\n",
    "fig, ax = plt.subplots()\n",
    "\n",
    "#Getting months in order categorize the monthly_sales dataframe\n",
    "month_order = ['January', 'February', 'March', 'April', 'May', 'June', 'July', 'August', 'September', 'October', 'November', 'December']\n",
    "#resetting the index\n",
    "monthly_sales = monthly_sales.reset_index()\n",
    "#Categorizing the month so that the when sort it follow month order and not alphabetical order\n",
    "monthly_sales['Date'] = pd.Categorical(monthly_sales['Date'], categories=month_order, ordered=True)\n",
    "#Sorting month\n",
    "monthly_sales.sort_values(by='Date', inplace=True)\n",
    "#setting the x and y values\n",
    "x_values = monthly_sales['Date']\n",
    "y_values = monthly_sales['sales']\n",
    "\n",
    "#plotting\n",
    "ax.plot(x_values, y_values)\n",
    "\n",
    "#Adding title, x and y labels\n",
    "ax.set_title('Monthly sales trend')\n",
    "ax.set_xlabel('Month')\n",
    "ax.set_ylabel('Total Sales')\n",
    "ax.tick_params('x', rotation=45)\n",
    "\n",
    "#adjust padding\n",
    "plt.tight_layout()"
   ]
  },
  {
   "cell_type": "markdown",
   "id": "2959ebb7-34d4-4d59-b271-20bfe86faef4",
   "metadata": {},
   "source": [
    "2. Bar chart"
   ]
  },
  {
   "cell_type": "code",
   "execution_count": 19,
   "id": "e632446f-260a-47d6-b74c-9c558b2d4667",
   "metadata": {},
   "outputs": [
    {
     "data": {
      "image/png": "[encoded data removed]",
      "text/plain": [
       "<Figure size 640x480 with 1 Axes>"
      ]
     },
     "metadata": {},
     "output_type": "display_data"
    }
   ],
   "source": [
    "fig, ax = plt.subplots()\n",
    "\n",
    "#getting the products\n",
    "x_label = top_selling.index[:5]\n",
    "#getting the prices of the top 5 products\n",
    "y_label = top_selling.iloc[:5, 0]\n",
    "\n",
    "#plotting bar chart\n",
    "ax.bar(x_label, y_label)\n",
    "\n",
    "ax.set_title('Top 5 products')\n",
    "ax.set_xlabel('Product')\n",
    "ax.set_ylabel('Revenue')\n",
    "\n",
    "plt.tight_layout()"
   ]
  },
  {
   "cell_type": "markdown",
   "id": "9e88e72f-1c61-4927-bf19-cd62ba5f5d33",
   "metadata": {},
   "source": [
    "3. Pie chart"
   ]
  },
  {
   "cell_type": "code",
   "execution_count": 20,
   "id": "bd7b2f39-87a5-4f01-b0e2-dd3bf9922867",
   "metadata": {},
   "outputs": [
    {
     "data": {
      "image/png": "[encoded data removed]",
      "text/plain": [
       "<Figure size 640x480 with 1 Axes>"
      ]
     },
     "metadata": {},
     "output_type": "display_data"
    }
   ],
   "source": [
    "fig, ax = plt.subplots()\n",
    "\n",
    "#getting the payment methods and their sales count\n",
    "sales_distribution = sales_data['PaymentMethod'].value_counts()\n",
    "\n",
    "label = sales_distribution.index\n",
    "data = sales_distribution\n",
    "\n",
    "ax.pie(data, labels=label)\n",
    "\n",
    "ax.set_title('Sales distribution')\n",
    "\n",
    "plt.tight_layout()"
   ]
  },
  {
   "cell_type": "markdown",
   "id": "7813866a-c2d4-404d-94b9-31ea4352ee47",
   "metadata": {},
   "source": [
    "4. Histogram"
   ]
  },
  {
   "cell_type": "code",
   "execution_count": 21,
   "id": "ee2af01d-a1e6-4b62-86b8-ada96ff07eb6",
   "metadata": {},
   "outputs": [
    {
     "data": {
      "image/png": "[encoded data removed]",
      "text/plain": [
       "<Figure size 640x480 with 1 Axes>"
      ]
     },
     "metadata": {},
     "output_type": "display_data"
    }
   ],
   "source": [
    "fig, ax = plt.subplots()\n",
    "\n",
    "order_values = sales_data['TotalPrice']\n",
    "\n",
    "ax.hist(order_values)\n",
    "\n",
    "ax.set_title('Distribution of order values')\n",
    "ax.set_xlabel('Order Value')\n",
    "ax.set_ylabel('Distribution')\n",
    "\n",
    "plt.tight_layout()"
   ]
  },
  {
   "cell_type": "markdown",
   "id": "8940c0b8-b986-4810-8be8-6706b5175ea6",
   "metadata": {},
   "source": [
    "5. Grouped bar charts"
   ]
  },
  {
   "cell_type": "code",
   "execution_count": 22,
   "id": "d808ac02-90a8-495b-bf48-92703511ce91",
   "metadata": {},
   "outputs": [
    {
     "data": {
      "image/png": "[encoded data removed]",
      "text/plain": [
       "<Figure size 640x480 with 1 Axes>"
      ]
     },
     "metadata": {},
     "output_type": "display_data"
    }
   ],
   "source": [
    "fig, ax = plt.subplots()\n",
    "\n",
    "#getting the sales count for every store per month\n",
    "store1 = sales_data[sales_data['StoreID'] == 'S001'].groupby(['StoreID', sales_data['Date'].dt.month]).agg(TransactionCount = ('TransactionID', 'count'))\n",
    "store2 = sales_data[sales_data['StoreID'] == 'S002'].groupby(['StoreID', sales_data['Date'].dt.month]).agg(TransactionCount = ('TransactionID', 'count'))\n",
    "store3 = sales_data[sales_data['StoreID'] == 'S003'].groupby(['StoreID', sales_data['Date'].dt.month]).agg(TransactionCount = ('TransactionID', 'count'))\n",
    "store4 = sales_data[sales_data['StoreID'] == 'S004'].groupby(['StoreID', sales_data['Date'].dt.month]).agg(TransactionCount = ('TransactionID', 'count'))\n",
    "store5 = sales_data[sales_data['StoreID'] == 'S005'].groupby(['StoreID', sales_data['Date'].dt.month]).agg(TransactionCount = ('TransactionID', 'count'))\n",
    "#width of the bars\n",
    "width = 0.15\n",
    "#x values from 1 ... 12 with 1.01 to add space between groups\n",
    "x = np.arange(1, 13) * 1.01\n",
    "\n",
    "#plotting each bar chart\n",
    "ax.bar(x - 2 * width, store1['TransactionCount'], width, label='Store1')\n",
    "ax.bar(x - width, store2['TransactionCount'], width, label='Store2')\n",
    "ax.bar(x, store3['TransactionCount'], width, label='Store3')\n",
    "ax.bar(x + width, store4['TransactionCount'], width, label='Store4')\n",
    "ax.bar(x + 2 * width, store5['TransactionCount'], width, label='Store5')\n",
    "\n",
    "ax.set_title('Monthly sales per store.')\n",
    "ax.set_xlabel('Month')\n",
    "ax.set_ylabel('Sales')\n",
    "ax.set_xticks(ticks=np.arange(1, 13), labels=month_order)\n",
    "ax.tick_params(\"x\", rotation=45)\n",
    "\n",
    "#adding the labels to the chart\n",
    "plt.legend()\n",
    "plt.tight_layout()"
   ]
  },
  {
   "cell_type": "markdown",
   "id": "d2e70e29-dc94-4ced-8292-15247e44f072",
   "metadata": {},
   "source": [
    "# Task 6"
   ]
  },
  {
   "cell_type": "markdown",
   "id": "412ccdb3-bf09-4732-bad9-f254c2cfb0ce",
   "metadata": {},
   "source": [
    "## Insights\n",
    "\n",
    "1. Monitors are the most sold product in the year.\n",
    "2. Most users pay for goods online.\n",
    "3. August and May recorded the most sales out of the other months."
   ]
  },
  {
   "cell_type": "markdown",
   "id": "452c91d8-1e18-4dbc-a1cf-85369f1d81e2",
   "metadata": {},
   "source": [
    "## Actions\n",
    "\n",
    "1. Make online payment always available.\n",
    "2. Increase monitors quantity in all stores."
   ]
  }
 ],
 "metadata": {
  "kernelspec": {
   "display_name": "Python 3 (ipykernel)",
   "language": "python",
   "name": "python3"
  },
  "language_info": {
   "codemirror_mode": {
    "name": "ipython",
    "version": 3
   },
   "file_extension": ".py",
   "mimetype": "text/x-python",
   "name": "python",
   "nbconvert_exporter": "python",
   "pygments_lexer": "ipython3",
   "version": "3.12.0"
  }
 },
 "nbformat": 4,
 "nbformat_minor": 5
}
